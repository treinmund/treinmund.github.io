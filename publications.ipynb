{
  "cells": [
    {
      "cell_type": "raw",
      "metadata": {},
      "source": [
        "---\n",
        "title: \"Research\"\n",
        "bibliography: papers.bib\n",
        "nocite: |\n",
        "  @*\n",
        "---"
      ],
      "id": "b449976a"
    },
    {
      "cell_type": "markdown",
      "metadata": {},
      "source": [
        "```{bibliography}\n",
        ":file: papers.bib"
      ],
      "id": "01f07d45"
    }
  ],
  "metadata": {
    "kernelspec": {
      "name": "interview-summarizer",
      "language": "python",
      "display_name": "interview-summarizer"
    }
  },
  "nbformat": 4,
  "nbformat_minor": 5
}